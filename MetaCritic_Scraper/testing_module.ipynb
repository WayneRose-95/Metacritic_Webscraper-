{
 "cells": [
  {
   "cell_type": "code",
   "execution_count": 58,
   "metadata": {},
   "outputs": [],
   "source": [
    "from selenium.webdriver import Chrome\n",
    "from selenium.webdriver.chrome.options import Options\n",
    "from selenium.webdriver.common.keys import Keys\n",
    "from selenium.webdriver.common.by import By\n",
    "from webdriver_manager.chrome import ChromeDriverManager\n",
    "from selenium.common.exceptions import NoSuchElementException\n",
    "from selenium.common.exceptions import NoSuchFrameException\n",
    "# from selenium.webdriver.support.ui import WebDriverWait\n",
    "import time\n",
    "import os \n",
    "import urllib.request\n",
    "from Scraper import Scraper"
   ]
  },
  {
   "cell_type": "code",
   "execution_count": 59,
   "metadata": {},
   "outputs": [
    {
     "name": "stderr",
     "output_type": "stream",
     "text": [
      "\n",
      "\n",
      "====== WebDriver manager ======\n",
      "Current google-chrome version is 99.0.4844\n",
      "Get LATEST chromedriver version for 99.0.4844 google-chrome\n",
      "Driver [C:\\Users\\EGuis\\.wdm\\drivers\\chromedriver\\win32\\99.0.4844.51\\chromedriver.exe] found in cache\n"
     ]
    }
   ],
   "source": [
    "bot = Scraper()\n",
    "# zoopla page = \"https://www.zoopla.co.uk/\"    \n",
    "bot.land_first_page(\"https://www.metacritic.com\")\n"
   ]
  },
  {
   "cell_type": "code",
   "execution_count": null,
   "metadata": {},
   "outputs": [],
   "source": [
    "# Xpaths from cbr.com\n",
    "# '/html/body/div[3]/div[1]/div[1]/div/button[2]', \n",
    "# '//div[@class=\"ConsentManager__Overlay-np32r2-0 gDTHbw\"]'\n",
    "\n",
    "# Xpaths from zoopla.co.uk\n",
    "\n",
    "bot.accept_cookies('//button[@id=\"save\"]', \n",
    "                    'gdpr-consent-notice')\n",
    "\n"
   ]
  },
  {
   "cell_type": "code",
   "execution_count": null,
   "metadata": {},
   "outputs": [],
   "source": [
    "bot.find_search_bar_then_pass_input_into_search_bar(\n",
    "    '//*[@id=\"header-location\"]',\n",
    "    'London'\n",
    ")\n",
    "\n"
   ]
  },
  {
   "cell_type": "code",
   "execution_count": null,
   "metadata": {},
   "outputs": [],
   "source": [
    "bot.extract_the_page_links('//a[@class=\"title\"]', 'href')\n",
    "\n"
   ]
  },
  {
   "cell_type": "code",
   "execution_count": 7,
   "metadata": {},
   "outputs": [
    {
     "name": "stdout",
     "output_type": "stream",
     "text": [
      "112\n",
      "Max Page = 112..\n"
     ]
    },
    {
     "data": {
      "text/plain": [
       "112"
      ]
     },
     "execution_count": 7,
     "metadata": {},
     "output_type": "execute_result"
    }
   ],
   "source": [
    "bot.collect_number_of_pages('#main_content > div.browse.new_releases > div.content_after_header > \\\n",
    "    div > div.next_to_side_col > div > div.marg_top1 > div > div > div.pages > ul > \\\n",
    "    li.page.last_page > a' )\n",
    "\n"
   ]
  },
  {
   "cell_type": "code",
   "execution_count": null,
   "metadata": {},
   "outputs": [],
   "source": [
    "bot.infinite_scroll_down_page()    \n",
    " \n"
   ]
  },
  {
   "cell_type": "code",
   "execution_count": null,
   "metadata": {},
   "outputs": [],
   "source": [
    "# Xpath from Wikipedia \n",
    "bot.find_container('//div[@id=\"bodyContent\"]')\n"
   ]
  },
  {
   "cell_type": "code",
   "execution_count": 6,
   "metadata": {},
   "outputs": [
    {
     "name": "stdout",
     "output_type": "stream",
     "text": [
      "['https://www.metacritic.com/browse/games/genre/date/adventure/all?view=detailed', 'https://www.metacritic.com/browse/games/genre/date/fighting/all?view=detailed', 'https://www.metacritic.com/browse/games/genre/date/first-person/all?view=detailed', 'https://www.metacritic.com/browse/games/genre/date/flight/all?view=detailed', 'https://www.metacritic.com/browse/games/genre/date/party/all?view=detailed', 'https://www.metacritic.com/browse/games/genre/date/platformer/all?view=detailed', 'https://www.metacritic.com/browse/games/genre/date/puzzle/all?view=detailed', 'https://www.metacritic.com/browse/games/genre/date/racing/all?view=detailed', 'https://www.metacritic.com/browse/games/genre/date/real-time/all?view=detailed', 'https://www.metacritic.com/browse/games/genre/date/role-playing/all?view=detailed', 'https://www.metacritic.com/browse/games/genre/date/simulation/all?view=detailed', 'https://www.metacritic.com/browse/games/genre/date/sports/all?view=detailed', 'https://www.metacritic.com/browse/games/genre/date/strategy/all?view=detailed', 'https://www.metacritic.com/browse/games/genre/date/third-person/all?view=detailed', 'https://www.metacritic.com/browse/games/genre/date/turn-based/all?view=detailed', 'https://www.metacritic.com/browse/games/genre/date/wargame/all?view=detailed', 'https://www.metacritic.com/browse/games/genre/date/wrestling/all?view=detailed']\n"
     ]
    }
   ],
   "source": [
    "# For Metacritic, put in platform instead of genre to click on the platform filter list. \n",
    "bot.apply_filter_list('//ul[@class=\"dropdown dropdown_open\"]//li/a','//div[@class=\"mcmenu dropdown style2 genre\"]' )\n",
    "\n"
   ]
  },
  {
   "cell_type": "code",
   "execution_count": 62,
   "metadata": {},
   "outputs": [],
   "source": [
    "bot._save_image('Action', '//img[@class=\"product_image large_image\"]')"
   ]
  },
  {
   "cell_type": "code",
   "execution_count": null,
   "metadata": {},
   "outputs": [],
   "source": []
  }
 ],
 "metadata": {
  "interpreter": {
   "hash": "15d8202090240a68fff50565b617887bdace3c38e6cef60d67c41dc3043665f7"
  },
  "kernelspec": {
   "display_name": "Python 3.9.6 ('Aicore')",
   "language": "python",
   "name": "python3"
  },
  "language_info": {
   "codemirror_mode": {
    "name": "ipython",
    "version": 3
   },
   "file_extension": ".py",
   "mimetype": "text/x-python",
   "name": "python",
   "nbconvert_exporter": "python",
   "pygments_lexer": "ipython3",
   "version": "3.9.6"
  },
  "orig_nbformat": 4
 },
 "nbformat": 4,
 "nbformat_minor": 2
}
